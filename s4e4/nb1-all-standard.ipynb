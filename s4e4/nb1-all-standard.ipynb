{
 "cells": [
  {
   "cell_type": "code",
   "execution_count": null,
   "metadata": {},
   "outputs": [],
   "source": [
    "import fastkaggle\n",
    "import polars as pl\n",
    "\n",
    "from sklearn.ensemble import HistGradientBoostingRegressor\n",
    "from sklearn.linear_model import PoissonRegressor\n",
    "from sklearn.model_selection import cross_validate, KFold\n",
    "from sklearn.preprocessing import OneHotEncoder\n",
    "from sklearn.pipeline import make_pipeline\n",
    "from sklearn.compose import make_column_transformer"
   ]
  },
  {
   "cell_type": "code",
   "execution_count": null,
   "metadata": {},
   "outputs": [],
   "source": [
    "comp = \"playground-series-s4e4\"\n",
    "path = fastkaggle.setup_comp(comp)\n",
    "\n",
    "train = pl.read_csv(path/\"train.csv\").drop(\"id\").with_columns(pl.col(pl.Float64).cast(pl.Float32))\n",
    "test = pl.read_csv(path/\"test.csv\").drop(\"id\").with_columns(pl.col(pl.Float64).cast(pl.Float32))\n",
    "subm = pl.read_csv(path/\"sample_submission.csv\") "
   ]
  },
  {
   "cell_type": "code",
   "execution_count": null,
   "metadata": {},
   "outputs": [],
   "source": [
    "train.columns"
   ]
  },
  {
   "cell_type": "code",
   "execution_count": null,
   "metadata": {},
   "outputs": [],
   "source": [
    "train.estimated_size(unit='mb')"
   ]
  },
  {
   "cell_type": "code",
   "execution_count": null,
   "metadata": {},
   "outputs": [],
   "source": [
    "X= train.drop(\"Rings\")\n",
    "y=train.select(pl.last()).to_numpy().squeeze()\n",
    "\n",
    "pipe = make_column_transformer(\n",
    "    (OneHotEncoder(sparse_output=False), [\"Sex\"]),\n",
    "    remainder=\"passthrough\", verbose_feature_names_out=False\n",
    ").set_output(transform=\"polars\")\n",
    "\n",
    "cv = KFold()\n",
    "model = HistGradientBoostingRegressor()\n",
    "mod_pipe = make_pipeline(pipe, model)\n",
    "cross_validate(mod_pipe,X,y,cv=cv,scoring=\"neg_root_mean_squared_log_error\")"
   ]
  },
  {
   "cell_type": "code",
   "execution_count": null,
   "metadata": {},
   "outputs": [],
   "source": [
    "model = PoissonRegressor()\n",
    "mod_pipe = make_pipeline(pipe, model)\n",
    "cross_validate(mod_pipe,X,y,cv=cv,scoring=\"neg_root_mean_squared_log_error\")"
   ]
  },
  {
   "cell_type": "code",
   "execution_count": null,
   "metadata": {},
   "outputs": [],
   "source": [
    "model = HistGradientBoostingRegressor()\n",
    "mod_pipe = make_pipeline(pipe, model)\n",
    "mod_pipe.fit(X,y)\n",
    "preds = mod_pipe.predict(test)"
   ]
  },
  {
   "cell_type": "code",
   "execution_count": null,
   "metadata": {},
   "outputs": [],
   "source": [
    "ss = subm.with_columns(\"id\",Rings=preds)\n",
    "ss.write_csv(path/\"subm.csv\")"
   ]
  },
  {
   "cell_type": "code",
   "execution_count": null,
   "metadata": {},
   "outputs": [],
   "source": [
    "from kaggle import api\n",
    "api.competition_submit(path/\"subm.csv\", \"routince boost tree\", comp)"
   ]
  },
  {
   "cell_type": "code",
   "execution_count": null,
   "metadata": {},
   "outputs": [],
   "source": [
    "train.drop(\"Rings\").plot.kde()"
   ]
  },
  {
   "cell_type": "code",
   "execution_count": null,
   "metadata": {},
   "outputs": [],
   "source": []
  }
 ],
 "metadata": {
  "kernelspec": {
   "display_name": "base",
   "language": "python",
   "name": "python3"
  },
  "language_info": {
   "codemirror_mode": {
    "name": "ipython",
    "version": 3
   },
   "file_extension": ".py",
   "mimetype": "text/x-python",
   "name": "python",
   "nbconvert_exporter": "python",
   "pygments_lexer": "ipython3",
   "version": "3.10.12"
  }
 },
 "nbformat": 4,
 "nbformat_minor": 2
}
