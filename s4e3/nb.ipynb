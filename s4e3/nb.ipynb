{
 "cells": [
  {
   "cell_type": "code",
   "execution_count": null,
   "metadata": {},
   "outputs": [],
   "source": [
    "import fastkaggle\n",
    "import polars as pl\n",
    "\n",
    "from sklearn.ensemble import HistGradientBoostingClassifier\n",
    "from sklearn.model_selection import cross_validate, KFold"
   ]
  },
  {
   "cell_type": "code",
   "execution_count": null,
   "metadata": {},
   "outputs": [],
   "source": [
    "comp = \"playground-series-s4e3\"\n",
    "path = fastkaggle.setup_comp(comp)\n",
    "\n",
    "train = pl.read_csv(path/\"train.csv\").drop(\"id\").with_columns(pl.col(pl.Float64).cast(pl.Float32))\n",
    "test = pl.read_csv(path/\"test.csv\").drop(\"id\").with_columns(pl.col(pl.Float64).cast(pl.Float32))\n",
    "subm = pl.read_csv(path/\"sample_submission.csv\") "
   ]
  },
  {
   "cell_type": "code",
   "execution_count": null,
   "metadata": {},
   "outputs": [],
   "source": [
    "col_targets = train.columns[-7:]"
   ]
  },
  {
   "cell_type": "code",
   "execution_count": null,
   "metadata": {},
   "outputs": [],
   "source": [
    "train.select(\n",
    "    pl.reduce(function=lambda acc,x:acc+x, exprs=pl.col(col_targets)).alias(\"sum\")>1\n",
    ").sum()"
   ]
  },
  {
   "cell_type": "code",
   "execution_count": null,
   "metadata": {},
   "outputs": [],
   "source": [
    "train_proc = (\n",
    "    train.lazy()\n",
    "    .filter(\n",
    "        (pl.reduce(function=lambda acc,x:acc+x, exprs=pl.col(col_targets))<=1)\n",
    "    )\n",
    "    .with_columns(\n",
    "        pl.concat_list(pl.col(col_targets)).list.arg_max().alias(\"issue_idx\")\n",
    "    )\n",
    "    .collect()\n",
    ")"
   ]
  },
  {
   "cell_type": "code",
   "execution_count": null,
   "metadata": {},
   "outputs": [],
   "source": [
    "X = train_proc.drop(\"issue_idx\").select(pl.all().exclude(col_targets))\n",
    "y = train_proc.select(pl.last()).to_numpy().squeeze()"
   ]
  },
  {
   "cell_type": "code",
   "execution_count": null,
   "metadata": {},
   "outputs": [],
   "source": [
    "model = HistGradientBoostingClassifier()\n",
    "cv = KFold()\n",
    "cross_validate(model, X, y, cv=cv, scoring = \"roc_auc_ovr\")  # one vs rest "
   ]
  },
  {
   "cell_type": "code",
   "execution_count": null,
   "metadata": {},
   "outputs": [],
   "source": [
    "model.fit(X,y)"
   ]
  },
  {
   "cell_type": "code",
   "execution_count": null,
   "metadata": {},
   "outputs": [],
   "source": [
    "preds = model.predict_proba(test)"
   ]
  },
  {
   "cell_type": "code",
   "execution_count": null,
   "metadata": {},
   "outputs": [],
   "source": [
    "preds.shape"
   ]
  },
  {
   "cell_type": "code",
   "execution_count": null,
   "metadata": {},
   "outputs": [],
   "source": [
    "ss = subm.select(\"id\", *[pl.Series(preds[:,i]).alias(col) for i,col in enumerate(col_targets)])\n",
    "ss.write_csv(path/\"subm.csv\")"
   ]
  },
  {
   "cell_type": "code",
   "execution_count": null,
   "metadata": {},
   "outputs": [],
   "source": [
    "from kaggle import api\n",
    "api.competition_submit(path/\"subm.csv\", \"routince boost tree\", comp)"
   ]
  },
  {
   "cell_type": "code",
   "execution_count": null,
   "metadata": {},
   "outputs": [],
   "source": []
  }
 ],
 "metadata": {
  "kernelspec": {
   "display_name": "base",
   "language": "python",
   "name": "python3"
  },
  "language_info": {
   "codemirror_mode": {
    "name": "ipython",
    "version": 3
   },
   "file_extension": ".py",
   "mimetype": "text/x-python",
   "name": "python",
   "nbconvert_exporter": "python",
   "pygments_lexer": "ipython3",
   "version": "3.10.12"
  }
 },
 "nbformat": 4,
 "nbformat_minor": 2
}
