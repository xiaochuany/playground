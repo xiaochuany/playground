{
 "cells": [
  {
   "cell_type": "code",
   "execution_count": 1,
   "metadata": {},
   "outputs": [],
   "source": [
    "import fastkaggle\n",
    "import polars as pl\n",
    "\n",
    "comp = \"playground-series-s4e5\"\n",
    "path = fastkaggle.setup_comp(comp)"
   ]
  },
  {
   "cell_type": "code",
   "execution_count": 2,
   "metadata": {},
   "outputs": [],
   "source": [
    "train = pl.read_csv(path/\"train.csv\")\n",
    "test = pl.read_csv(path/\"test.csv\")"
   ]
  },
  {
   "cell_type": "code",
   "execution_count": 3,
   "metadata": {},
   "outputs": [],
   "source": [
    "from sklearn.ensemble import HistGradientBoostingClassifier, HistGradientBoostingRegressor"
   ]
  },
  {
   "cell_type": "code",
   "execution_count": 4,
   "metadata": {},
   "outputs": [
    {
     "data": {
      "text/html": [
       "<div><style>\n",
       ".dataframe > thead > tr,\n",
       ".dataframe > tbody > tr {\n",
       "  text-align: right;\n",
       "  white-space: pre-wrap;\n",
       "}\n",
       "</style>\n",
       "<small>shape: (1, 2)</small><table border=\"1\" class=\"dataframe\"><thead><tr><th>std</th><th>mean</th></tr><tr><td>f64</td><td>f64</td></tr></thead><tbody><tr><td>0.051026</td><td>0.50448</td></tr></tbody></table></div>"
      ],
      "text/plain": [
       "shape: (1, 2)\n",
       "┌──────────┬─────────┐\n",
       "│ std      ┆ mean    │\n",
       "│ ---      ┆ ---     │\n",
       "│ f64      ┆ f64     │\n",
       "╞══════════╪═════════╡\n",
       "│ 0.051026 ┆ 0.50448 │\n",
       "└──────────┴─────────┘"
      ]
     },
     "execution_count": 4,
     "metadata": {},
     "output_type": "execute_result"
    }
   ],
   "source": [
    "train.select(std=pl.col(\"FloodProbability\").std(), mean=pl.col(\"FloodProbability\").mean()) "
   ]
  },
  {
   "cell_type": "code",
   "execution_count": 5,
   "metadata": {},
   "outputs": [
    {
     "data": {
      "text/plain": [
       "['id',\n",
       " 'MonsoonIntensity',\n",
       " 'TopographyDrainage',\n",
       " 'RiverManagement',\n",
       " 'Deforestation',\n",
       " 'Urbanization',\n",
       " 'ClimateChange',\n",
       " 'DamsQuality',\n",
       " 'Siltation',\n",
       " 'AgriculturalPractices',\n",
       " 'Encroachments',\n",
       " 'IneffectiveDisasterPreparedness',\n",
       " 'DrainageSystems',\n",
       " 'CoastalVulnerability',\n",
       " 'Landslides',\n",
       " 'Watersheds',\n",
       " 'DeterioratingInfrastructure',\n",
       " 'PopulationScore',\n",
       " 'WetlandLoss',\n",
       " 'InadequatePlanning',\n",
       " 'PoliticalFactors',\n",
       " 'FloodProbability']"
      ]
     },
     "execution_count": 5,
     "metadata": {},
     "output_type": "execute_result"
    }
   ],
   "source": [
    "train.columns"
   ]
  },
  {
   "cell_type": "code",
   "execution_count": 6,
   "metadata": {},
   "outputs": [],
   "source": [
    "X = train.select(pl.all().exclude(\"id\", \"FloodProbability\"))\n",
    "y = train.get_column(\"FloodProbability\").to_numpy()"
   ]
  },
  {
   "cell_type": "code",
   "execution_count": 10,
   "metadata": {},
   "outputs": [
    {
     "data": {
      "text/plain": [
       "{'fit_time': array([7.66179204, 7.2624042 , 7.27417588, 6.79349875, 6.82809329]),\n",
       " 'score_time': array([0.39700198, 0.4000361 , 0.40024972, 0.39639878, 0.39331198]),\n",
       " 'test_score': array([0.76650382, 0.76484852, 0.76637766, 0.76670384, 0.76565526])}"
      ]
     },
     "execution_count": 10,
     "metadata": {},
     "output_type": "execute_result"
    }
   ],
   "source": [
    "from sklearn.model_selection import cross_validate, KFold\n",
    "\n",
    "cross_validate(HistGradientBoostingRegressor(loss=\"gamma\"), X, y, cv=KFold(), scoring=\"r2\")"
   ]
  },
  {
   "cell_type": "code",
   "execution_count": null,
   "metadata": {},
   "outputs": [],
   "source": [
    "mod = HistGradientBoostingRegressor()\n",
    "mod.fit(X,y)"
   ]
  },
  {
   "cell_type": "code",
   "execution_count": null,
   "metadata": {},
   "outputs": [],
   "source": [
    "test =pl.read_csv(path/\"test.csv\")"
   ]
  },
  {
   "cell_type": "code",
   "execution_count": null,
   "metadata": {},
   "outputs": [],
   "source": [
    "test.head(3)"
   ]
  },
  {
   "cell_type": "code",
   "execution_count": null,
   "metadata": {},
   "outputs": [],
   "source": [
    "X_test = test.drop(\"id\")\n",
    "preds = mod.predict(X_test)"
   ]
  },
  {
   "cell_type": "code",
   "execution_count": null,
   "metadata": {},
   "outputs": [],
   "source": [
    "sub = pl.read_csv(path/\"sample_submission.csv\")\n",
    "sub"
   ]
  },
  {
   "cell_type": "code",
   "execution_count": null,
   "metadata": {},
   "outputs": [],
   "source": [
    "sub = sub.with_columns(FloodProbability=preds)"
   ]
  },
  {
   "cell_type": "code",
   "execution_count": null,
   "metadata": {},
   "outputs": [],
   "source": [
    "sub.write_csv(path/\"subm.csv\")\n",
    "sub.head(2)"
   ]
  },
  {
   "cell_type": "code",
   "execution_count": null,
   "metadata": {},
   "outputs": [],
   "source": [
    "from kaggle import api\n",
    "api.competition_submit_cli(path/'subm.csv', 'boost-0-feature-eng', comp)"
   ]
  },
  {
   "cell_type": "code",
   "execution_count": null,
   "metadata": {},
   "outputs": [],
   "source": [
    "cross_validate(HistGradientBoostingClassifier(), X, y>0.5, cv=KFold(), scoring=\"accuracy\")"
   ]
  },
  {
   "cell_type": "code",
   "execution_count": null,
   "metadata": {},
   "outputs": [],
   "source": [
    "mod = HistGradientBoostingClassifier()\n",
    "mod.fit(X[:900000],y[:900000]>0.5)"
   ]
  },
  {
   "cell_type": "code",
   "execution_count": null,
   "metadata": {},
   "outputs": [],
   "source": [
    "pred_proba = mod.predict_proba(X[900000:])"
   ]
  },
  {
   "cell_type": "code",
   "execution_count": null,
   "metadata": {},
   "outputs": [],
   "source": [
    "preds = mod.predict(X[900000:])"
   ]
  },
  {
   "cell_type": "code",
   "execution_count": null,
   "metadata": {},
   "outputs": [],
   "source": [
    "preds"
   ]
  },
  {
   "cell_type": "code",
   "execution_count": null,
   "metadata": {},
   "outputs": [],
   "source": [
    "from sklearn.metrics import r2_score\n",
    "\n",
    "r2_score(pred_proba[:,1], y[900000:])"
   ]
  },
  {
   "cell_type": "code",
   "execution_count": null,
   "metadata": {},
   "outputs": [],
   "source": [
    "r2_score(preds, y[900000:])"
   ]
  },
  {
   "cell_type": "code",
   "execution_count": null,
   "metadata": {},
   "outputs": [],
   "source": [
    "X.plot.kde()"
   ]
  },
  {
   "cell_type": "code",
   "execution_count": null,
   "metadata": {},
   "outputs": [],
   "source": [
    "train.select(pl.last()).plot.hist()"
   ]
  },
  {
   "cell_type": "code",
   "execution_count": null,
   "metadata": {},
   "outputs": [],
   "source": [
    "X.select(pl.first()).plot.hist()"
   ]
  },
  {
   "cell_type": "code",
   "execution_count": null,
   "metadata": {},
   "outputs": [],
   "source": [
    "test.drop(\"id\").select(pl.first()).plot.hist()"
   ]
  },
  {
   "cell_type": "code",
   "execution_count": null,
   "metadata": {},
   "outputs": [],
   "source": [
    "train.drop(\"id\").select(pl.all().exclude(\"FloodProbability\").n_unique())"
   ]
  },
  {
   "cell_type": "code",
   "execution_count": null,
   "metadata": {},
   "outputs": [],
   "source": [
    "test.drop(\"id\").select(pl.all().exclude(\"FloodProbability\").n_unique())"
   ]
  },
  {
   "cell_type": "code",
   "execution_count": null,
   "metadata": {},
   "outputs": [],
   "source": [
    "from sklearn.ensemble import HistGradientBoostingRegressor\n",
    "HistGradientBoostingRegressor(scoring=\"r2\")"
   ]
  },
  {
   "cell_type": "code",
   "execution_count": 22,
   "metadata": {},
   "outputs": [],
   "source": [
    "from ast import expr\n",
    "\n",
    "\n",
    "X_ss = X.select(pl.reduce(function = lambda acc,x: acc+x, exprs=pl.all()).alias(\"sum\"))"
   ]
  },
  {
   "cell_type": "code",
   "execution_count": 23,
   "metadata": {},
   "outputs": [],
   "source": [
    "from sklearn.linear_model import Ridge"
   ]
  },
  {
   "cell_type": "code",
   "execution_count": 25,
   "metadata": {},
   "outputs": [
    {
     "data": {
      "text/plain": [
       "{'fit_time': array([0.2519443 , 0.1340909 , 0.15849495, 0.16112447, 0.16423726]),\n",
       " 'score_time': array([0.00309849, 0.00346732, 0.00334716, 0.00368381, 0.00342298]),\n",
       " 'test_score': array([0.84511278, 0.84335424, 0.84461139, 0.84659108, 0.84498482])}"
      ]
     },
     "execution_count": 25,
     "metadata": {},
     "output_type": "execute_result"
    }
   ],
   "source": [
    "cross_validate(Ridge(), X_ss, y, cv=KFold(), scoring=\"r2\")"
   ]
  },
  {
   "cell_type": "code",
   "execution_count": 26,
   "metadata": {},
   "outputs": [],
   "source": [
    "test = pl.read_csv(path/\"test.csv\").drop(\"id\")"
   ]
  },
  {
   "cell_type": "code",
   "execution_count": 28,
   "metadata": {},
   "outputs": [],
   "source": [
    "test_ss =  test.select(pl.reduce(function = lambda acc,x: acc+x, exprs=pl.all()).alias(\"sum\"))"
   ]
  },
  {
   "cell_type": "code",
   "execution_count": 29,
   "metadata": {},
   "outputs": [],
   "source": [
    "mod = Ridge().fit(X_ss,y)"
   ]
  },
  {
   "cell_type": "code",
   "execution_count": 31,
   "metadata": {},
   "outputs": [],
   "source": [
    "preds = mod.predict(test_ss)"
   ]
  },
  {
   "cell_type": "code",
   "execution_count": 33,
   "metadata": {},
   "outputs": [
    {
     "data": {
      "text/plain": [
       "0"
      ]
     },
     "execution_count": 33,
     "metadata": {},
     "output_type": "execute_result"
    }
   ],
   "source": [
    "import numpy as np\n",
    "np.sum(preds>1)+np.sum(preds<0)"
   ]
  },
  {
   "cell_type": "code",
   "execution_count": 41,
   "metadata": {},
   "outputs": [],
   "source": [
    "sub = pl.read_csv(path/\"sample_submission.csv\")\n",
    "sub = sub.select(\"id\", FloodProbability=preds)"
   ]
  },
  {
   "cell_type": "code",
   "execution_count": 42,
   "metadata": {},
   "outputs": [
    {
     "data": {
      "text/html": [
       "<div><style>\n",
       ".dataframe > thead > tr,\n",
       ".dataframe > tbody > tr {\n",
       "  text-align: right;\n",
       "  white-space: pre-wrap;\n",
       "}\n",
       "</style>\n",
       "<small>shape: (745_305, 2)</small><table border=\"1\" class=\"dataframe\"><thead><tr><th>id</th><th>FloodProbability</th></tr><tr><td>i64</td><td>f64</td></tr></thead><tbody><tr><td>1117957</td><td>0.573429</td></tr><tr><td>1117958</td><td>0.454861</td></tr><tr><td>1117959</td><td>0.454861</td></tr><tr><td>1117960</td><td>0.466154</td></tr><tr><td>1117961</td><td>0.466154</td></tr><tr><td>&hellip;</td><td>&hellip;</td></tr><tr><td>1863257</td><td>0.477446</td></tr><tr><td>1863258</td><td>0.449215</td></tr><tr><td>1863259</td><td>0.624243</td></tr><tr><td>1863260</td><td>0.550844</td></tr><tr><td>1863261</td><td>0.511322</td></tr></tbody></table></div>"
      ],
      "text/plain": [
       "shape: (745_305, 2)\n",
       "┌─────────┬──────────────────┐\n",
       "│ id      ┆ FloodProbability │\n",
       "│ ---     ┆ ---              │\n",
       "│ i64     ┆ f64              │\n",
       "╞═════════╪══════════════════╡\n",
       "│ 1117957 ┆ 0.573429         │\n",
       "│ 1117958 ┆ 0.454861         │\n",
       "│ 1117959 ┆ 0.454861         │\n",
       "│ 1117960 ┆ 0.466154         │\n",
       "│ 1117961 ┆ 0.466154         │\n",
       "│ …       ┆ …                │\n",
       "│ 1863257 ┆ 0.477446         │\n",
       "│ 1863258 ┆ 0.449215         │\n",
       "│ 1863259 ┆ 0.624243         │\n",
       "│ 1863260 ┆ 0.550844         │\n",
       "│ 1863261 ┆ 0.511322         │\n",
       "└─────────┴──────────────────┘"
      ]
     },
     "execution_count": 42,
     "metadata": {},
     "output_type": "execute_result"
    }
   ],
   "source": [
    "sub"
   ]
  },
  {
   "cell_type": "code",
   "execution_count": 43,
   "metadata": {},
   "outputs": [],
   "source": [
    "sub.write_csv(path/\"subm.csv\")"
   ]
  },
  {
   "cell_type": "code",
   "execution_count": 45,
   "metadata": {},
   "outputs": [],
   "source": [
    "from kaggle import api"
   ]
  },
  {
   "cell_type": "code",
   "execution_count": 46,
   "metadata": {},
   "outputs": [
    {
     "name": "stdout",
     "output_type": "stream",
     "text": [
      "Warning: Looks like you're using an outdated API Version, please consider updating (server 1.6.12 / client 1.5.16)\n"
     ]
    },
    {
     "name": "stderr",
     "output_type": "stream",
     "text": [
      "100%|██████████| 19.3M/19.3M [00:09<00:00, 2.24MB/s]\n"
     ]
    },
    {
     "data": {
      "text/plain": [
       "Successfully submitted to Regression with a Flood Prediction Dataset"
      ]
     },
     "execution_count": 46,
     "metadata": {},
     "output_type": "execute_result"
    }
   ],
   "source": [
    "api.competition_submit_cli(path/'subm.csv', 'sum_feat', comp)"
   ]
  },
  {
   "cell_type": "code",
   "execution_count": null,
   "metadata": {},
   "outputs": [],
   "source": []
  }
 ],
 "metadata": {
  "kernelspec": {
   "display_name": "base",
   "language": "python",
   "name": "python3"
  },
  "language_info": {
   "codemirror_mode": {
    "name": "ipython",
    "version": 3
   },
   "file_extension": ".py",
   "mimetype": "text/x-python",
   "name": "python",
   "nbconvert_exporter": "python",
   "pygments_lexer": "ipython3",
   "version": "3.10.12"
  }
 },
 "nbformat": 4,
 "nbformat_minor": 2
}
